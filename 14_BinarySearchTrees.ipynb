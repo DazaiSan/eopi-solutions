{
 "cells": [
  {
   "cell_type": "markdown",
   "metadata": {},
   "source": [
    "# Chapter 14: Binary Search Trees"
   ]
  },
  {
   "cell_type": "code",
   "execution_count": 10,
   "metadata": {},
   "outputs": [],
   "source": [
    "from collections import namedtuple, deque\n",
    "import bintrees\n",
    "\n",
    "\n",
    "class BSTNode:\n",
    "    \"\"\"\n",
    "    Represents a binary tree/search tree node\n",
    "    \"\"\"\n",
    "    def __init__(self, data=None, left=None, right=None):\n",
    "        self.data = data\n",
    "        self.left = left\n",
    "        self.right = right\n",
    "    \n",
    "    \n",
    "def search_bst(tree, key):\n",
    "    \"\"\"\n",
    "    Returns true if the given key exists in the given binary search tree\n",
    "    \"\"\"\n",
    "    if not tree:\n",
    "        return False\n",
    "    elif tree.data == key:\n",
    "        return True\n",
    "    elif tree.data > key:\n",
    "        return search_bst(tree.left, key)\n",
    "    else:\n",
    "        return search_bst(tree.right, key)"
   ]
  },
  {
   "cell_type": "markdown",
   "metadata": {},
   "source": [
    "## 14.1 Test if a binary tree satisfies the BST property"
   ]
  },
  {
   "cell_type": "code",
   "execution_count": 8,
   "metadata": {},
   "outputs": [],
   "source": [
    "def is_binary_tree_bst_1(tree, low_range=float(\"-inf\"), high_range=float(\"inf\")):\n",
    "    \"\"\"\n",
    "    Returns true if the given tree is a binary search tree\n",
    "    \"\"\"\n",
    "    if not tree:\n",
    "        return True\n",
    "    elif not (tree.data >= low_range and tree.data <= high_range):\n",
    "        return False\n",
    "    else:\n",
    "        return (is_binary_tree(tree.left, low_range, tree.data) and\n",
    "                is_binary_tree(tree.right, tree.data, high_range))"
   ]
  },
  {
   "cell_type": "code",
   "execution_count": 12,
   "metadata": {},
   "outputs": [],
   "source": [
    "def is_binary_tree_bst_2(tree):\n",
    "    QueueEntry = namedtuple(\"QueueEntry\", (\"node\", \"low\", \"high\"))\n",
    "    bfs_queue = deque([QueueEntry(tree, float(\"-inf\"), float(\"inf\"))])\n",
    "    \n",
    "    while bfs_queue:\n",
    "        front = bfs_queue.popleft()\n",
    "        if front.node:\n",
    "            if not front.low <= front.node.data <= front.high:\n",
    "                return False\n",
    "            bfs_queue.extend([\n",
    "                QueueEntry(tree.left, front.low, front.node.data),\n",
    "                QueueEntry(tree.right, front.node.data, front.high)\n",
    "            ])\n",
    "    return True "
   ]
  },
  {
   "cell_type": "code",
   "execution_count": 13,
   "metadata": {},
   "outputs": [],
   "source": [
    "# Method Three:\n",
    "# Perform in-order traversal of the tree and at any point where `current` <= `previous`, return False"
   ]
  },
  {
   "cell_type": "markdown",
   "metadata": {},
   "source": [
    "## 14.2 Find the first key greater than a given value in a BST"
   ]
  },
  {
   "cell_type": "code",
   "execution_count": 14,
   "metadata": {},
   "outputs": [],
   "source": [
    "def first_key_greater_than_iter(tree, k):\n",
    "    \"\"\"\n",
    "    Returns the first key in `tree` that is greater than `k`\n",
    "    \"\"\"\n",
    "    first_so_far = None\n",
    "    \n",
    "    while(tree):\n",
    "        if tree.data < k:\n",
    "            first_so_far, tree = tree, tree.left\n",
    "        else:\n",
    "            tree = tree.right\n",
    "    return first_so_far"
   ]
  },
  {
   "cell_type": "code",
   "execution_count": 15,
   "metadata": {},
   "outputs": [],
   "source": [
    "def first_key_greater_than_recur(tree, k, first_so_far=None):\n",
    "    if not tree:\n",
    "        return first_so_far\n",
    "    \n",
    "    if tree.data < k:\n",
    "        first_key_greater_than_recur(tree.left, k, tree)\n",
    "    else:\n",
    "        first_key_greater_than_recur(tree.right, k, first_so_far)"
   ]
  },
  {
   "cell_type": "markdown",
   "metadata": {},
   "source": [
    "### Variant: Write a program that takes as input a BST and a value, and returns the node those key equals the input value and appears first in an inorder traversal of the BST"
   ]
  },
  {
   "cell_type": "code",
   "execution_count": 16,
   "metadata": {},
   "outputs": [],
   "source": [
    "def first_equal(tree, k):\n",
    "    \"\"\"\n",
    "    Returns the first key that is equal to the given key in the given BST\n",
    "    \"\"\"\n",
    "    res = None\n",
    "    while tree:\n",
    "        if tree.data == k:\n",
    "            res, tree = tree, tree.left\n",
    "        elif tree.data < k:\n",
    "            tree = tree.right\n",
    "        else:\n",
    "            tree = tree.left\n",
    "    return res"
   ]
  },
  {
   "cell_type": "code",
   "execution_count": null,
   "metadata": {},
   "outputs": [],
   "source": []
  }
 ],
 "metadata": {
  "kernelspec": {
   "display_name": "Python 3",
   "language": "python",
   "name": "python3"
  },
  "language_info": {
   "codemirror_mode": {
    "name": "ipython",
    "version": 3
   },
   "file_extension": ".py",
   "mimetype": "text/x-python",
   "name": "python",
   "nbconvert_exporter": "python",
   "pygments_lexer": "ipython3",
   "version": "3.6.0"
  }
 },
 "nbformat": 4,
 "nbformat_minor": 2
}
