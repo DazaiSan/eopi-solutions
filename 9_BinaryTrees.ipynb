{
 "cells": [
  {
   "cell_type": "markdown",
   "metadata": {},
   "source": [
    "# Chapter 9: Binary Trees"
   ]
  },
  {
   "cell_type": "markdown",
   "metadata": {},
   "source": [
    "## Notes:\n",
    "\n",
    "* Some problems have simple brute force solutions that require `O(n)` space, but, subtler solutions exist that use existing tree nodes to reduce space complexity to `O(1)`.\n",
    "\n",
    "* Recursive algorithms are well-suited to tree problems. Remember to consider the size of the function call stack which computing space complexity.\n",
    "\n",
    "* The height of the tree varies from `log n` for balanced trees to `n` for skewed trees.\n",
    "\n",
    "* If each node has a parent field, use it to reduce time and space complexities."
   ]
  },
  {
   "cell_type": "code",
   "execution_count": 3,
   "metadata": {},
   "outputs": [],
   "source": [
    "from collections import namedtuple\n",
    "\n",
    "class BinaryTreeNode:\n",
    "    \"\"\"\n",
    "    Represents a node in a binary tree\n",
    "    \"\"\"\n",
    "    def __init__(self, data=None, left=None, right=None):\n",
    "        this.data = data\n",
    "        this.left = left\n",
    "        this.right = right\n",
    "\n",
    "\n",
    "def traversal(tree_node):\n",
    "    \"\"\"\n",
    "    Demonstrates preorder, inorder and postorder traversal\n",
    "    of a tree rooted at `tree_node`\n",
    "    \"\"\"\n",
    "    print(\"Pre-order: \", tree_node.data)\n",
    "    traversal(tree_node.left)\n",
    "    \n",
    "    print(\"In-order: \", tree_node.data)\n",
    "    traversal(tree_node.right)\n",
    "    \n",
    "    print(\"Post-order: \", tree_node.data)"
   ]
  },
  {
   "cell_type": "markdown",
   "metadata": {},
   "source": [
    "## 9.1 Test if a binary tree is height balanced"
   ]
  },
  {
   "cell_type": "code",
   "execution_count": 6,
   "metadata": {},
   "outputs": [],
   "source": [
    "def is_balanced_tree(tree):\n",
    "    \"\"\"\n",
    "    Returns True iff the given binary tree is height-balanced\n",
    "    \"\"\"\n",
    "    BalancedWithHeight = namedtupled('BalancedWithHeight', ('balanced', 'height'))\n",
    "    \n",
    "    def check_balanced(tree):\n",
    "        if not tree:\n",
    "            return BalancedWithHeight(True, -1)\n",
    "    \n",
    "        left_result = check_balanced(tree.left)\n",
    "        if not left_result.balanced:\n",
    "            return BalancedWithHeight(False, 0)\n",
    "        \n",
    "        right_result = check_balanced(tree.right)\n",
    "        if not right_result.balanced:\n",
    "            return BalancedWithHeight(False, 0)\n",
    "        \n",
    "        is_balanced = abs(left_result.height - right_result.height) <= 1\n",
    "        height = max(left_result.height, right_result.height) + 1\n",
    "        return BalancedWithHeight(is_balanced, height)\n",
    "    \n",
    "    return check_balanced.balanced"
   ]
  },
  {
   "cell_type": "markdown",
   "metadata": {},
   "source": [
    "### Variant: Design an algorithm that takes as input a binary tree and positive integer k, and returns the node in the binary tree such that the node is not k-balanced, but all of its descendants are k-balanced"
   ]
  },
  {
   "cell_type": "code",
   "execution_count": null,
   "metadata": {},
   "outputs": [],
   "source": [
    "def k_balanced(tree):\n",
    "    BalancedWithHeight = namedtuple('BalancedWithHeight', ('balanced', 'height'))\n",
    "    \n",
    "    def k_balanced_node(tree):\n",
    "        if not tree:\n",
    "            return BalancedWithHeight(True, -1)\n",
    "        left_result = k_balanced_node"
   ]
  },
  {
   "cell_type": "markdown",
   "metadata": {},
   "source": [
    "## 9.2 Test if a binary tree is symmetric"
   ]
  },
  {
   "cell_type": "code",
   "execution_count": 9,
   "metadata": {},
   "outputs": [],
   "source": [
    "def is_symmetric(tree):\n",
    "    \"\"\"\n",
    "    Returns True iff the given binary tree is symmetric\n",
    "    \"\"\"\n",
    "    \n",
    "    def check_symmetric(left_subtree, right_subtree):\n",
    "        if not left_subtree and not right_subtree:\n",
    "            return True\n",
    "        elif left_subtree and right_subtree:\n",
    "            return (left_subtree.data == right_subtree.data) and \\\n",
    "        check_symmetric(left_subtree.left, right_subtree.right) and \\\n",
    "        check_symmetric(left_subtree.right, right_subtree.left)\n",
    "        return False\n",
    "\n",
    "    return not tree or check_symmetric(tree.left, tree.right)"
   ]
  },
  {
   "cell_type": "markdown",
   "metadata": {},
   "source": [
    "## 9.3 Compute the lowest common ancestor in a binary tree"
   ]
  },
  {
   "cell_type": "code",
   "execution_count": 2,
   "metadata": {},
   "outputs": [],
   "source": [
    "def lca(root, node0, node1):\n",
    "    \"\"\"\n",
    "    Returns the LCA of the given nodes in the given tree\n",
    "    \"\"\"\n",
    "    if root in (None, node0, node1):\n",
    "        return root\n",
    "    left, right = [lca_1(tree, node0, node1) for tree in (root.left, root.right)]\n",
    "    if left and right:\n",
    "        return root\n",
    "    else:\n",
    "        return left or right\n",
    "\n",
    "# Check book for another version"
   ]
  },
  {
   "cell_type": "markdown",
   "metadata": {},
   "source": [
    "## 9.4 Compute the LCA when nodes have parent pointers"
   ]
  },
  {
   "cell_type": "code",
   "execution_count": 13,
   "metadata": {},
   "outputs": [],
   "source": [
    "class Node:\n",
    "    \"\"\"\n",
    "    Represents a binary tree node with a parent pointer\n",
    "    \"\"\"\n",
    "    def __init__(self, data=None, parent=None, left=None, right=None):\n",
    "        this.data = data\n",
    "        this.parent = parent\n",
    "        this.left = left\n",
    "        this.right = right\n",
    "\n",
    "def lca(node1, node2):\n",
    "    \"\"\"\n",
    "    Returns the LCA of node1 and node2 if it exists\n",
    "    \"\"\"\n",
    "    \n",
    "    def get_depth(node):\n",
    "        \"\"\"\n",
    "        Returns the depth of the given node\n",
    "        \"\"\"\n",
    "        d = 0\n",
    "        while node and node.parent: \n",
    "            d += 1\n",
    "            node = node.parent\n",
    "        return d\n",
    "    \n",
    "    def move_up(node, n):\n",
    "        \"\"\"\n",
    "        Returns the given node moved up by n steps\n",
    "        \"\"\"\n",
    "        while n > 0:\n",
    "            node = node.parent\n",
    "            n -= 1\n",
    "        return node\n",
    "    \n",
    "    if not node1 or not node2:\n",
    "        return None\n",
    "    \n",
    "    # Compute depths\n",
    "    depth1 = get_depth(node1)\n",
    "    depth2 = get_depth(node2)\n",
    "    \n",
    "    # Assign the node to be ascended\n",
    "    if depth2 > depth1:\n",
    "        node1, node2 = node2, node1\n",
    "    \n",
    "    # Ascends the deeper node\n",
    "    node1 = move_up(node1, abs(depth1 - depth2))\n",
    "    \n",
    "    # Ascend both nodes until we reach the LCA\n",
    "    while node1 is not node2:\n",
    "        node1, node2 = node1.parent, node2.parent\n",
    "    return node1"
   ]
  },
  {
   "cell_type": "markdown",
   "metadata": {},
   "source": [
    "## 9.11 Implement an in-order traversal with `O(1)` space"
   ]
  },
  {
   "cell_type": "code",
   "execution_count": 2,
   "metadata": {},
   "outputs": [],
   "source": [
    "class Node:\n",
    "    \"\"\"\n",
    "    Represents a binary tree node with a parent pointer\n",
    "    \"\"\"\n",
    "    def __init__(self, data=None, parent=None, left=None, right=None):\n",
    "        this.data = data\n",
    "        this.parent = parent\n",
    "        this.left = left\n",
    "        this.right = right\n",
    "        \n",
    "        \n",
    "def inorder_traversal_iter(tree):\n",
    "    \"\"\"\n",
    "    Perform in-order traversal iteratively\n",
    "    \"\"\"\n",
    "    prev, result = None, []\n",
    "    while tree:\n",
    "        if prev is tree.parent:\n",
    "            if tree.left:\n",
    "                next = tree.left\n",
    "            else:\n",
    "                result.append(tree.data)\n",
    "                next = tree.right or tree.parent\n",
    "        elif prev == tree.left:\n",
    "            result.append(tree.data)\n",
    "            next = tree.right or tree.parent\n",
    "        else:\n",
    "            next = tree.parent\n",
    "        prev, tree = tree, next\n",
    "    return result"
   ]
  },
  {
   "cell_type": "markdown",
   "metadata": {},
   "source": [
    "## 9.12 Reconstruct a binary tree from traversal data"
   ]
  },
  {
   "cell_type": "code",
   "execution_count": 2,
   "metadata": {},
   "outputs": [],
   "source": [
    "def build_binary_tree_from_preorder_inorder(preorder, inorder):\n",
    "    node_to_inorder_idx = {data: i for i, data in enumerate(inorder)}\n",
    "    \n",
    "    def binary_tree_from_preorder_inorder_helper(preorder_start, preorder_end, inorder_start, inorder_end):\n",
    "        if preorder_end <= preorder_start or inorder_end <= inorder_start:\n",
    "            return None\n",
    "        root_inorder_idx = node_to_inorder_idx[preorder[preorder_start]]\n",
    "        left_subtree_size = root_inorder_idx - inorder_start\n",
    "        return BinaryTreeNode(preorder[preorder_start],\n",
    "                            # left subtree\n",
    "                            binary_tree_from_preorder_inorder_helper(\n",
    "                                preorder_start + 1,\n",
    "                                preorder_start + 1 + left_subtree_size,\n",
    "                                inorder_start,\n",
    "                                root_inorder_idx),\n",
    "                            # right subtree\n",
    "                            binary_tree_from_preorder_inorder_helper(\n",
    "                                preorder_start + 1 + left_subtree_size,\n",
    "                                preorder_end,\n",
    "                                root_inorder_idx,\n",
    "                                inorder_end))\n",
    "    return binary_tree_from_preorder_inorder_helper(0, len(preorder), 0, len(inorder))"
   ]
  }
 ],
 "metadata": {
  "kernelspec": {
   "display_name": "Python 3",
   "language": "python",
   "name": "python3"
  },
  "language_info": {
   "codemirror_mode": {
    "name": "ipython",
    "version": 3
   },
   "file_extension": ".py",
   "mimetype": "text/x-python",
   "name": "python",
   "nbconvert_exporter": "python",
   "pygments_lexer": "ipython3",
   "version": "3.6.0"
  }
 },
 "nbformat": 4,
 "nbformat_minor": 2
}
