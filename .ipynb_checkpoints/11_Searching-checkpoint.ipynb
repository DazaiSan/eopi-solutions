{
 "cells": [
  {
   "cell_type": "markdown",
   "metadata": {},
   "source": [
    "# Chapter 11: Searching"
   ]
  },
  {
   "cell_type": "markdown",
   "metadata": {},
   "source": [
    "### Notes\n",
    "\n",
    "- If a solution uses sorting, and the computation performed after sorting is faster than sorting, look for solutions that do not perform a complete sort"
   ]
  },
  {
   "cell_type": "code",
   "execution_count": 50,
   "metadata": {},
   "outputs": [],
   "source": [
    "import bisect\n",
    "\n",
    "\n",
    "def binary_search(seq, x):\n",
    "    \"\"\"\n",
    "    Performs binary search for sequences of primitive types\n",
    "    \"\"\"\n",
    "    lo, hi = 0, len(seq) - 1\n",
    "    while lo <= hi:\n",
    "        mid = lo + (hi - lo) // 2\n",
    "        if x > seq[mid]:\n",
    "            lo = mid + 1\n",
    "        elif x == seq[mid]:\n",
    "            return mid\n",
    "        else:\n",
    "            hi = mid - 1\n",
    "    return None\n",
    "\n",
    "\n",
    "def binary_search_pythonic(seq, x):\n",
    "    \"\"\"\n",
    "    Performs binary search using the `bisect` module\n",
    "    \"\"\"\n",
    "    i = bisect.bisect_left(seq, x)\n",
    "    if 0 <= i < len(seq) and seq[i] == x:\n",
    "        return i\n",
    "    else:\n",
    "        None"
   ]
  },
  {
   "cell_type": "markdown",
   "metadata": {},
   "source": [
    "## 11.1  Search a sorted array for first occurence of `k`"
   ]
  },
  {
   "cell_type": "code",
   "execution_count": 54,
   "metadata": {},
   "outputs": [],
   "source": [
    "def binary_search_first(A, k):\n",
    "    \"\"\"\n",
    "    Returns the first occurence of `k` in `A` if present, else None\n",
    "    \"\"\"\n",
    "    lo, hi, result = 0, len(A) - 1, None\n",
    "    while lo <= hi:\n",
    "        mid = lo + (hi - lo) // 2\n",
    "        if k > A[mid]:\n",
    "            lo = mid + 1\n",
    "        elif k == A[mid]:\n",
    "            result = mid\n",
    "            hi = mid - 1\n",
    "        else:\n",
    "            hi = mid - 1\n",
    "    return result\n",
    "\n",
    "# Tests\n",
    "assert binary_search_first([-14, -10, 2, 108, 108, 243, 285, 285, 401], 108) == 3\n",
    "assert binary_search_first([-14, -10, 2, 108, 108, 243, 285, 285, 401], 285) == 6\n",
    "assert binary_search_first([1, 1, 1], 1) == 0"
   ]
  },
  {
   "cell_type": "code",
   "execution_count": 55,
   "metadata": {},
   "outputs": [],
   "source": [
    "def binary_search_first_pythonic(A, k):\n",
    "    \"\"\"\n",
    "    Returns the first occurence of `k` in `A` if present, else None\n",
    "    \"\"\"\n",
    "    i = bisect.bisect_left(A, k)\n",
    "    if 0 <= i < len(A):\n",
    "        return i\n",
    "    else:\n",
    "        None\n",
    "    \n",
    "# Tests\n",
    "assert binary_search_first_pythonic([-14, -10, 2, 108, 108, 243, 285, 285, 401], 108) == 3\n",
    "assert binary_search_first_pythonic([-14, -10, 2, 108, 108, 243, 285, 285, 401], 285) == 6\n",
    "assert binary_search_first_pythonic([1, 1, 1], 1) == 0"
   ]
  },
  {
   "cell_type": "code",
   "execution_count": null,
   "metadata": {},
   "outputs": [],
   "source": []
  }
 ],
 "metadata": {
  "kernelspec": {
   "display_name": "Python 3",
   "language": "python",
   "name": "python3"
  },
  "language_info": {
   "codemirror_mode": {
    "name": "ipython",
    "version": 3
   },
   "file_extension": ".py",
   "mimetype": "text/x-python",
   "name": "python",
   "nbconvert_exporter": "python",
   "pygments_lexer": "ipython3",
   "version": "3.6.0"
  }
 },
 "nbformat": 4,
 "nbformat_minor": 2
}
