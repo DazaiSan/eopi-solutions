{
 "cells": [
  {
   "cell_type": "markdown",
   "metadata": {},
   "source": [
    "# Chapter 6: Strings"
   ]
  },
  {
   "cell_type": "markdown",
   "metadata": {},
   "source": [
    "## Scratch"
   ]
  },
  {
   "cell_type": "code",
   "execution_count": 1,
   "metadata": {},
   "outputs": [],
   "source": [
    "def is_palindromic(s):\n",
    "    \"\"\"\n",
    "    Returns True iff the given string `s` is a palindrome\n",
    "    \"\"\"\n",
    "    return all(s[i] == s[-(i + 1)] for i in range(len(s) // 2))"
   ]
  },
  {
   "cell_type": "markdown",
   "metadata": {},
   "source": [
    "## 6.1 Interconvert strings and integers"
   ]
  },
  {
   "cell_type": "code",
   "execution_count": 2,
   "metadata": {},
   "outputs": [],
   "source": [
    "import functools\n",
    "import string\n",
    "\n",
    "def int_to_str(n):\n",
    "    \"\"\"\n",
    "    Int -> String\n",
    "    Given: an int\n",
    "    Returns: given int as a string\n",
    "    \"\"\"\n",
    "    is_neg = False\n",
    "    if n < 0:\n",
    "        n, is_neg = -n, True\n",
    "\n",
    "    result = []\n",
    "    while n > 0:\n",
    "        result.append(chr(ord(\"0\") + n % 10))\n",
    "        n //= 10\n",
    "    return (\"-\" if is_neg else \"\") + \"\".join(reversed(result))\n",
    "\n",
    "\n",
    "def str_to_int(s):\n",
    "    \"\"\"\n",
    "    String -> Int\n",
    "    Given: a string representing an int\n",
    "    Returns: the int equivalent of the given string\n",
    "    \"\"\"\n",
    "    return functools.reduce(lambda acc, c: acc * 10 + (ord(c) - ord(\"0\")),\n",
    "                            s[s[0] == \"-\":],\n",
    "                            0) * (-1 if s[0] == \"-\" else 1)\n",
    "\n",
    "\n",
    "assert int_to_str(12) == \"12\"\n",
    "assert int_to_str(-12) == \"-12\"\n",
    "\n",
    "assert str_to_int(\"12\") == 12\n",
    "assert str_to_int(\"-12\") == -12"
   ]
  },
  {
   "cell_type": "code",
   "execution_count": null,
   "metadata": {},
   "outputs": [],
   "source": []
  }
 ],
 "metadata": {
  "kernelspec": {
   "display_name": "Python 3",
   "language": "python",
   "name": "python3"
  },
  "language_info": {
   "codemirror_mode": {
    "name": "ipython",
    "version": 3
   },
   "file_extension": ".py",
   "mimetype": "text/x-python",
   "name": "python",
   "nbconvert_exporter": "python",
   "pygments_lexer": "ipython3",
   "version": "3.6.0"
  }
 },
 "nbformat": 4,
 "nbformat_minor": 2
}
