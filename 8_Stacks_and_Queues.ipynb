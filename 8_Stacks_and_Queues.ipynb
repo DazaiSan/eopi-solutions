{
 "cells": [
  {
   "cell_type": "markdown",
   "metadata": {},
   "source": [
    " # Chapter 8: Stacks and Queues"
   ]
  },
  {
   "cell_type": "markdown",
   "metadata": {},
   "source": [
    "### Notes:\n",
    "- For an `list`-based stack `s`:\n",
    "    * push -> `s.append()`\n",
    "    * pop -> `s.pop()`\n",
    "    * peek -> `s[-1]`\n",
    "\n",
    "\n",
    "- For a `deque`-based queue `q`:\n",
    "    * enqueue -> `q.append()`\n",
    "    * dequeue -> `q.popleft()`"
   ]
  },
  {
   "cell_type": "code",
   "execution_count": 32,
   "metadata": {},
   "outputs": [],
   "source": [
    "from collections import namedtuple, deque\n",
    "\n",
    "class Stack:\n",
    "    \"\"\"\n",
    "    Stack wrapper over a `list`\n",
    "    \"\"\"\n",
    "    # Constructor\n",
    "    def __init__(self):\n",
    "        self._stack = []\n",
    "        \n",
    "    # Methods\n",
    "    def push(self, item): \n",
    "        self._stack.append(item)\n",
    "    \n",
    "    def pop(self):\n",
    "        if self._is_empty():\n",
    "            raise IndexError(\"Cannot pop from an empty stack.\")\n",
    "        else:\n",
    "            return self._stack.pop()\n",
    "    \n",
    "    def peek(self):\n",
    "        if self._is_empty():\n",
    "            raise IndexError(\"Cannot peek into an empty stack.\")\n",
    "        else:\n",
    "            return self._stack[-1]\n",
    "        \n",
    "    # Functions\n",
    "    def _is_empty(self):\n",
    "        return len(self._stack) == 0\n",
    "    \n",
    "    \n",
    "class Queue:\n",
    "    \"\"\"\n",
    "    Queue wrapper over a `deque`\n",
    "    \"\"\"\n",
    "    def __init__(self):\n",
    "        self._q = deque()\n",
    "    \n",
    "    def enqueue(self, item):\n",
    "        self._q.append(item)\n",
    "    \n",
    "    def dequeue(self):\n",
    "        self._q.popleft()\n",
    "    \n",
    "    def max(self):\n",
    "        return max(self._q)"
   ]
  },
  {
   "cell_type": "markdown",
   "metadata": {},
   "source": [
    "## 8.1  Implement a stack with max() API"
   ]
  },
  {
   "cell_type": "code",
   "execution_count": 33,
   "metadata": {},
   "outputs": [],
   "source": [
    "class StackWithMax:\n",
    "    \"\"\"\n",
    "    Stack wrapper over a list with `max`\n",
    "    \"\"\"\n",
    "    StackItem = namedtuple('StackItem', ('item', 'max'))\n",
    "    \n",
    "    # Constructor\n",
    "    def __init__(self):\n",
    "        self._stack = []\n",
    "        \n",
    "    # Methods\n",
    "    def push(self, item):\n",
    "        self._stack.append(self.StackItem(item=item, \n",
    "                                          max=item if self._is_empty() \n",
    "                                                   else max(item, self.max())))\n",
    "    \n",
    "    def pop(self):\n",
    "        if self._is_empty():\n",
    "            raise IndexError(\"Cannot pop from an empty stack.\")\n",
    "        else:\n",
    "            return self._stack.pop().item\n",
    "    \n",
    "    def peek(self):\n",
    "        if self._is_empty():\n",
    "            raise IndexError(\"Cannot peek into an empty stack.\")\n",
    "        else:\n",
    "            return self._stack[-1].item\n",
    "    \n",
    "    def max(self):\n",
    "        if self._is_empty():\n",
    "            raise IndexError(\"Cannot peek into an empty stack.\")\n",
    "        else:\n",
    "            return self._stack[-1].max\n",
    "        \n",
    "    # Functions\n",
    "    def _is_empty(self):\n",
    "        return len(self._stack) == 0"
   ]
  },
  {
   "cell_type": "code",
   "execution_count": 34,
   "metadata": {},
   "outputs": [],
   "source": [
    "# Tests\n",
    "s = StackWithMax()\n",
    "s.push(1)\n",
    "assert s.peek() == 1\n",
    "assert s.pop() == 1\n",
    "\n",
    "try:\n",
    "    s.max()\n",
    "except IndexError:\n",
    "    pass\n",
    "\n",
    "s.push(10)\n",
    "s.push(11)\n",
    "assert s.max() == 11\n",
    "assert s.pop() == 11\n",
    "assert s.max() == 10\n",
    "assert s.pop() == 10"
   ]
  },
  {
   "cell_type": "markdown",
   "metadata": {},
   "source": [
    "Time Complexity is `O(1)` for each of the above operations.\n",
    "\n",
    "Space Complexity is `O(n)`."
   ]
  },
  {
   "cell_type": "markdown",
   "metadata": {},
   "source": [
    "## 8.2  Evaluate RPN Expressions"
   ]
  },
  {
   "cell_type": "code",
   "execution_count": 35,
   "metadata": {},
   "outputs": [],
   "source": [
    "def evaluate_rpn(exp):\n",
    "    \"\"\"\n",
    "    Returns the result of an arithmetic expression in Reverse Polish Notation\n",
    "    \"\"\"\n",
    "    OPERATORS = {\n",
    "        \"+\": lambda y, x: x + y,\n",
    "        \"-\": lambda y, x: x - y,\n",
    "        \"x\": lambda y, x: x * y,\n",
    "        \"/\": lambda y, x: int(x / y)\n",
    "    }\n",
    "    s = Stack()\n",
    "    for t in exp.strip().split(\",\"):\n",
    "        if t not in OPERATORS:\n",
    "            s.push(int(t))\n",
    "        else:\n",
    "            s.push(OPERATORS[t](s.pop(), s.pop()))\n",
    "    return s.pop()\n",
    "\n",
    "# Tests\n",
    "assert evaluate_rpn(\"3,4,+,2,x,1,+\") == 15\n",
    "assert evaluate_rpn(\"1729\") == 1729"
   ]
  },
  {
   "cell_type": "markdown",
   "metadata": {},
   "source": [
    "Time and Space Complexities are `O(n)`, where `n` is the length of the RPN string."
   ]
  },
  {
   "cell_type": "markdown",
   "metadata": {},
   "source": [
    "## 8.3  Compute Binary Tree nodes in order of increasing depth"
   ]
  },
  {
   "cell_type": "code",
   "execution_count": null,
   "metadata": {},
   "outputs": [],
   "source": []
  },
  {
   "cell_type": "markdown",
   "metadata": {},
   "source": [
    "## 8.4  Implement a circular queue"
   ]
  },
  {
   "cell_type": "code",
   "execution_count": null,
   "metadata": {},
   "outputs": [],
   "source": [
    "class CircularQueue:\n",
    "    \"\"\"\n",
    "    Dynamic Circular Queue wrapper over a `list`\n",
    "    \"\"\"\n",
    "    RESIZE_FACTOR = 2\n",
    "    \n",
    "    def __init__(self, capacity):\n",
    "        self._q = [None] * capacity\n",
    "        self._size = 0\n",
    "        self._head = 0\n",
    "        self._tail = 0\n",
    "    \n",
    "    def enqueue(self, item):\n",
    "        if self._size == 0:\n",
    "            # Resize queue\n",
    "            self._q = self._q[self._head:] + self._q[:self._head]\n",
    "            self._head, self._tail = 0, self._size\n",
    "            self._q += [None] * (len(self._q) * CircularQueue.RESIZE_FACTOR)\n",
    "        self._q[tail] = item\n",
    "        self._tail = (tail + 1) % len(self._q)\n",
    "        self._size += 1\n",
    "    \n",
    "    def dequeue(self):\n",
    "        val = self._q[head]\n",
    "        self._head = (self._head + 1) % len(self._q)\n",
    "        self._size -= 1\n",
    "        return val\n",
    "\n",
    "    def size(self):\n",
    "        return self._size"
   ]
  }
 ],
 "metadata": {
  "kernelspec": {
   "display_name": "Python 3",
   "language": "python",
   "name": "python3"
  },
  "language_info": {
   "codemirror_mode": {
    "name": "ipython",
    "version": 3
   },
   "file_extension": ".py",
   "mimetype": "text/x-python",
   "name": "python",
   "nbconvert_exporter": "python",
   "pygments_lexer": "ipython3",
   "version": "3.6.0"
  }
 },
 "nbformat": 4,
 "nbformat_minor": 2
}
