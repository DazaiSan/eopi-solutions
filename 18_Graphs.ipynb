{
 "cells": [
  {
   "cell_type": "markdown",
   "metadata": {},
   "source": [
    "# Chapter 18: Graphs"
   ]
  },
  {
   "cell_type": "code",
   "execution_count": 8,
   "metadata": {},
   "outputs": [],
   "source": [
    "from collections import deque, defaultdict, namedtuple\n",
    "from copy import deepcopy\n",
    "\n",
    "# Test Graphs\n",
    "test_graph_1 = {'A': set(['F', 'B', 'C']),\n",
    "              'B': set(['A', 'D', 'E', 'G']),\n",
    "              'C': set(['A', 'F']),\n",
    "              'D': set(['B', \"G\"]),\n",
    "              'E': set(['B', 'F']),\n",
    "              'F': set(['C', 'E']),\n",
    "              'G': set()}\n",
    "\n",
    "test_graph_2 = deepcopy(test_graph_1)\n",
    "test_graph_2[\"Z\"] = \"Y\""
   ]
  },
  {
   "cell_type": "markdown",
   "metadata": {},
   "source": [
    "## Breadth First Search"
   ]
  },
  {
   "cell_type": "markdown",
   "metadata": {},
   "source": [
    "### Vanilla BFS"
   ]
  },
  {
   "cell_type": "code",
   "execution_count": 67,
   "metadata": {},
   "outputs": [
    {
     "name": "stdout",
     "output_type": "stream",
     "text": [
      "{'A': {'B', 'C', 'F'}, 'B': {'E', 'D', 'G', 'A'}, 'C': {'A', 'F'}, 'D': {'B', 'G'}, 'E': {'B', 'F'}, 'F': {'E', 'C'}, 'G': set()}\n",
      "Processed vertex: A\n",
      "Processed edge: AB\n",
      "Processed edge: AC\n",
      "Processed edge: AF\n",
      "Processed vertex: B\n",
      "Processed edge: BE\n",
      "Processed edge: BD\n",
      "Processed edge: BG\n",
      "Processed vertex: C\n",
      "Processed edge: CF\n",
      "Processed vertex: F\n",
      "Processed edge: FE\n",
      "Processed vertex: E\n",
      "Processed vertex: D\n",
      "Processed edge: DG\n",
      "Processed vertex: G\n",
      "Parents: defaultdict(None, {'B': 'A', 'C': 'A', 'F': 'A', 'E': 'B', 'D': 'B', 'G': 'B'})\n"
     ]
    }
   ],
   "source": [
    "def bfs(graph, root, directed=False):\n",
    "    \"\"\"\n",
    "    Performs breadth first search on the given graph.\n",
    "    \"\"\"\n",
    "    processed, discovered = set(), set(root)\n",
    "    parent = defaultdict(None)\n",
    "    q = deque(root)\n",
    "    \n",
    "    while q:\n",
    "        u = q.popleft()\n",
    "        process_vertex_early(u)\n",
    "        for v in graph[u]:\n",
    "            if v not in processed or directed:\n",
    "                process_edge(u, v)\n",
    "            if v not in discovered:\n",
    "                q.append(v)\n",
    "                discovered.add(v)\n",
    "                parent[v] = u\n",
    "        processed.add(u)\n",
    "        process_vertex_late(u)\n",
    "    print(\"Parents: {}\".format(parent))\n",
    "        \n",
    "def process_vertex_early(v):\n",
    "    \"\"\"\n",
    "    Performs computation on a vertex just before exploring its adjacency list\n",
    "    \"\"\"\n",
    "    print(\"Processed vertex: {}\".format(v))\n",
    "    \n",
    "    \n",
    "def process_edge(u, v):\n",
    "    \"\"\"\n",
    "    Performs computation on an edge the first time it is discovered\n",
    "    \"\"\"\n",
    "    print(\"Processed edge: {}{}\".format(u, v))\n",
    "    \n",
    "    \n",
    "def process_vertex_late(v):\n",
    "    \"\"\"\n",
    "    Performs computation on a vertex after exploring its adjacency list\n",
    "    \"\"\"\n",
    "    pass\n",
    "\n",
    "\n",
    "# Tests\n",
    "print(test_graph_1)\n",
    "bfs(test_graph_1, \"A\")"
   ]
  },
  {
   "cell_type": "markdown",
   "metadata": {},
   "source": [
    "### Applications of BFS"
   ]
  },
  {
   "cell_type": "markdown",
   "metadata": {},
   "source": [
    "Connected Components"
   ]
  },
  {
   "cell_type": "code",
   "execution_count": 51,
   "metadata": {},
   "outputs": [],
   "source": [
    "def connected_components(graph):\n",
    "    \"\"\"\n",
    "    Returns the number of connected components in the given graph\n",
    "    \"\"\"\n",
    "    discovered = set()\n",
    "    count = 0\n",
    "    \n",
    "    def bfs(root):\n",
    "        discovered.add(root)\n",
    "        q = deque(root)\n",
    "        while q:\n",
    "            u = q.popleft()\n",
    "            for v in graph.get(u, set()):\n",
    "                if v not in discovered:\n",
    "                    discovered.add(v)\n",
    "                    q.append(v)\n",
    "    \n",
    "    for vertex in graph:\n",
    "        if vertex not in discovered:\n",
    "            count += 1\n",
    "            bfs(vertex)\n",
    "    \n",
    "    return count\n",
    "            \n",
    "# Tests\n",
    "assert connected_components(test_graph_1) == 1\n",
    "assert connected_components(test_graph_2) == 2"
   ]
  },
  {
   "cell_type": "markdown",
   "metadata": {},
   "source": [
    "Two-coloring graphs"
   ]
  },
  {
   "cell_type": "code",
   "execution_count": 32,
   "metadata": {},
   "outputs": [],
   "source": [
    "def bipartite(graph, color1, color2):\n",
    "    \"\"\"\n",
    "    Return True iff the given graph is bipartite\n",
    "    \"\"\"\n",
    "    discovered, processed = set(), set()\n",
    "    color = defaultdict(None)\n",
    "    bipartite = True\n",
    "    \n",
    "    def complement(color):\n",
    "        if color == color1: return color2\n",
    "        elif color == color2: return color1\n",
    "\n",
    "    def process_edge(u, v):\n",
    "        if color[u] == color[v]:\n",
    "            nonlocal bipartite\n",
    "            bipartite = False\n",
    "        color[v] = complement(color(u))\n",
    "        \n",
    "    def bfs(root):\n",
    "        discovered.add(root)\n",
    "        q = deque(root)\n",
    "        while q:\n",
    "            u = q.popleft()\n",
    "            processed.add(u)\n",
    "            for v in graph.get(u, set()):\n",
    "                if v not in processed:\n",
    "                    process_edge(u, v)\n",
    "                if v not in discovered:\n",
    "                    discovered.add(v)\n",
    "                    q.append(v)\n",
    "    \n",
    "    for vertex in graph:\n",
    "        if vertex not in discovered:\n",
    "            color[vertex] = color1\n",
    "            bfs(vertex)\n",
    "    \n",
    "    return bipartite\n",
    "\n",
    "# Tests\n",
    "bipartite(test_graph, \"WHITE\", \"BLACK\")"
   ]
  },
  {
   "cell_type": "markdown",
   "metadata": {},
   "source": [
    "## Depth First Search"
   ]
  },
  {
   "cell_type": "markdown",
   "metadata": {},
   "source": [
    "### Vanilla DFS"
   ]
  },
  {
   "cell_type": "code",
   "execution_count": null,
   "metadata": {},
   "outputs": [],
   "source": [
    "def dfs(graph, root, directed = False):\n",
    "    \"\"\"\n",
    "    Performs depth first search on the given graph.\n",
    "    \"\"\"\n",
    "    discovered, processed = set(), set()\n",
    "    \n",
    "    def recur(u):\n",
    "        discovered.add(u)\n",
    "        process_vertex_early(u)\n",
    "        \n",
    "        for v in graph[u]:\n",
    "            if v not in discovered:  # Tree edge\n",
    "                process_edge(u, v)\n",
    "                recur(v)\n",
    "            elif v not in processed or directed:  # Back edge\n",
    "                process_edge(u, v)\n",
    "\n",
    "        process_vertex_late(u)\n",
    "        processed.add(u)\n",
    "    \n",
    "    recur(root)\n",
    "        \n",
    "                  \n",
    "def process_vertex_early(v):\n",
    "    \"\"\"\n",
    "    Performs computation on a vertex just before exploring its adjacency list\n",
    "    \"\"\"\n",
    "    print(\"Processed vertex: {}\".format(v))\n",
    "\n",
    "    \n",
    "def process_edge(u, v):\n",
    "    \"\"\"\n",
    "    Performs computation on an edge the first time it is discovered\n",
    "    \"\"\"\n",
    "    print(\"Processed edge: {}{}\".format(u, v))\n",
    "    \n",
    "\n",
    "def process_vertex_late(v):\n",
    "    \"\"\"\n",
    "    Performs computation on a vertex after exploring its adjacency list\n",
    "    \"\"\"\n",
    "    pass\n",
    "\n",
    "# Tests\n",
    "print(test_graph_1)\n",
    "dfs(test_graph_1, \"A\")"
   ]
  },
  {
   "cell_type": "markdown",
   "metadata": {},
   "source": [
    "## 18.1 Search a maze"
   ]
  },
  {
   "cell_type": "code",
   "execution_count": 11,
   "metadata": {},
   "outputs": [],
   "source": [
    "WHITE, BLACK = range(2)\n",
    "\n",
    "Coordinate = namedtuple(\"Coordinate\", (\"x\", \"y\"))\n",
    "\n",
    "def search_maze(maze, start, end):\n",
    "    \"\"\"\n",
    "    Returns a possible path from `start` to `end`\n",
    "    \"\"\"\n",
    "    path = []\n",
    "    \n",
    "    def invalid_vertex(v):\n",
    "        \"\"\"\n",
    "        Returns True if the given vertex is out of the matrix or if it is BLACK\n",
    "        \"\"\"\n",
    "        return not((0 <= v.x < len(maze)) and \n",
    "                  (0 <= v.y < len(maze)) and\n",
    "                  maze[v.x][v.y] == WHITE) \n",
    "    \n",
    "    def get_neighbors(v):\n",
    "        \"\"\"\n",
    "        Returns an iterator of this vertex's neighbors\n",
    "        \"\"\"\n",
    "        for n in (Coordinate(v.x+1, v.y), Coordinate(v.x-1, v.y), Coordinate(v.x, v.y+1), Coordinate(v.x, v.y-1)):\n",
    "            yield n\n",
    "        \n",
    "    def dfs(u):\n",
    "        \"\"\"\n",
    "        Perform DFS\n",
    "        \"\"\"\n",
    "        if invalid_vertex(u):\n",
    "            return False\n",
    "        \n",
    "        # Indicate that vertex is discovered\n",
    "        maze[u.x][u.y] = BLACK\n",
    "        \n",
    "        # Process vertex early\n",
    "        path.append(u)\n",
    "        if(u == end):\n",
    "            return True\n",
    "        \n",
    "        # Process neighbours\n",
    "        for v in get_neighbors(v):\n",
    "            if bfs(v): return True\n",
    "        \n",
    "        # Process vertex late\n",
    "        path.pop()\n",
    "        return False\n",
    "    \n",
    "    if dfs(start): return path\n",
    "    \n",
    "    return []"
   ]
  },
  {
   "cell_type": "markdown",
   "metadata": {},
   "source": [
    "## 18.2 Paint a Boolean Matrix"
   ]
  },
  {
   "cell_type": "code",
   "execution_count": null,
   "metadata": {},
   "outputs": [],
   "source": []
  }
 ],
 "metadata": {
  "kernelspec": {
   "display_name": "Python 3",
   "language": "python",
   "name": "python3"
  },
  "language_info": {
   "codemirror_mode": {
    "name": "ipython",
    "version": 3
   },
   "file_extension": ".py",
   "mimetype": "text/x-python",
   "name": "python",
   "nbconvert_exporter": "python",
   "pygments_lexer": "ipython3",
   "version": "3.6.0"
  }
 },
 "nbformat": 4,
 "nbformat_minor": 2
}
